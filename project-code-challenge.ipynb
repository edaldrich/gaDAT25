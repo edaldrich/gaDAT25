{
 "cells": [
  {
   "cell_type": "markdown",
   "metadata": {},
   "source": [
    "<img src=\"http://imgur.com/1ZcRyrc.png\" style=\"float: left; margin: 20px; height: 55px\">\n",
    "\n",
    "# Project 1: Python Coding Exercises\n",
    "\n",
    "_Authors: Joseph Nelson (DC) _\n",
    "\n",
    "---"
   ]
  },
  {
   "cell_type": "markdown",
   "metadata": {},
   "source": [
    "The following code challenges are drawn from common exercises used in technical interviews.\n",
    "\n",
    "Please note that there may be several ways to approach each challenge. If you get stuck, try mapping out your approach in pseudocode first. Finally, while solutions to problems like these may be found online, remember that if you copy/paste code that you can't explain, you'll be missing out on the point of the project. The only way to truly learn a new skill is through practice, trial, and error - we can only help you improve by understanding where you are having trouble."
   ]
  },
  {
   "cell_type": "markdown",
   "metadata": {},
   "source": [
    "### Challenge 1: Largest Palindrome\n",
    "A palindromic number reads the same both ways. For example, 1234321 is a palindrome. The largest palindrome made from the product of two two-digit numbers is 9009 = 91 × 99. Find the largest palindrome made from the product of two three-digit numbers. Afterward, write a brief explanation walking through your code's logic in markdown."
   ]
  },
  {
   "cell_type": "code",
   "execution_count": 342,
   "metadata": {},
   "outputs": [],
   "source": [
    "def max_3digit_palindrome():\n",
    "    x = 100\n",
    "    all_palis = []\n",
    "    while x < 1000:\n",
    "        y = x\n",
    "        while y < 1000:\n",
    "            palifinder = x * y\n",
    "            if str(palifinder) == str(palifinder)[::-1]:\n",
    "                all_palis.append(palifinder)\n",
    "            y = y+1\n",
    "        x = x + 1\n",
    "    print(max(all_palis))"
   ]
  },
  {
   "cell_type": "code",
   "execution_count": 343,
   "metadata": {},
   "outputs": [
    {
     "name": "stdout",
     "output_type": "stream",
     "text": [
      "906609\n"
     ]
    }
   ],
   "source": [
    "max_3digit_palindrome()"
   ]
  },
  {
   "cell_type": "code",
   "execution_count": 344,
   "metadata": {},
   "outputs": [],
   "source": [
    "def max_palindrome(a,b):\n",
    "    all_palis = []\n",
    "    while a <= b:\n",
    "        y = a\n",
    "        while y <= b:\n",
    "            if str(a*y) == str(a*y)[::-1]:\n",
    "                all_palis.append(a*y)\n",
    "            y = y + 1\n",
    "        a = a + 1\n",
    "    print(max(all_palis))"
   ]
  },
  {
   "cell_type": "code",
   "execution_count": 345,
   "metadata": {
    "scrolled": true
   },
   "outputs": [
    {
     "name": "stdout",
     "output_type": "stream",
     "text": [
      "906609\n"
     ]
    }
   ],
   "source": [
    "max_palindrome(100,999)"
   ]
  },
  {
   "cell_type": "markdown",
   "metadata": {},
   "source": [
    "## Largest Palindrome\n",
    "\n",
    "The thought process on this challenge was to take all the numbers from 100-999 and then begin multiplying them against each other.  I knew I only had to multiply each number against itself and upwards, because something like 100 * 150 and 150 * 100 are by definition the same, so it would be handled when I multiplied 100 across everything.\n",
    "\n",
    "I used x and y as variables, with x being the first number in the equation and y as the second.  By setting x equal to the first number in the problem (100), I used a while loop to assign y = x, then a second while loop to do the multiplication, and adding 1 to y for each number up to 1000.  Once y hit 1000, x would increase a number and the second while loop would operate again.\n",
    "\n",
    "For finding palindromes, I initially overthought the problem and tried to parse out the first half of the product and match it against the reversed second half of the product.  This was overly complicated, so I just reversed the whole product.  If the product was the equaled to the reverse product, I added it to a list of palindromes.  Once both while loops ended (by x = 1000), the function printed out the max value.\n",
    "\n",
    "In an effort to challenge myself, I additionally made a second function which would find the largest palindrome between any two numbers.  To do this, the only change I needed to make was to add an additional variable of b which would represent the largest number and change the while loops to end when equaling b, not less than 1000.  Through a little golfing, I was able to shorten this function a little bit as well."
   ]
  },
  {
   "cell_type": "markdown",
   "metadata": {},
   "source": [
    "\n",
    "### Challenge 2: Summation of Primes\n",
    "The sum of the primes below 10 is 2 + 3 + 5 + 7 = 17. Find the sum of all the primes below 2,000. Afterward, write a brief explanation walking through your code's logic in markdown."
   ]
  },
  {
   "cell_type": "code",
   "execution_count": 199,
   "metadata": {},
   "outputs": [],
   "source": [
    "def prime_sums_under2k():\n",
    "    prime_sum_final = 0\n",
    "    prime_check_list = []\n",
    "    x = 1\n",
    "    while x < 2000:\n",
    "        y = x\n",
    "        while y > 1:\n",
    "            if  x % y == 0:\n",
    "                prime_check_list.append(x)\n",
    "            y = y - 1\n",
    "        if len(prime_check_list) == 1:\n",
    "                prime_sum_final = prime_sum_final + prime_check_list[0]\n",
    "        prime_check_list = []\n",
    "        x = x + 1\n",
    "    print(prime_sum_final)"
   ]
  },
  {
   "cell_type": "code",
   "execution_count": 200,
   "metadata": {
    "scrolled": true
   },
   "outputs": [
    {
     "name": "stdout",
     "output_type": "stream",
     "text": [
      "277050\n"
     ]
    }
   ],
   "source": [
    "prime_sums_under2k()"
   ]
  },
  {
   "cell_type": "code",
   "execution_count": 203,
   "metadata": {},
   "outputs": [],
   "source": [
    "def prime_sums_underN(n):\n",
    "    prime_sum_final = 0\n",
    "    prime_check_list = []\n",
    "    x = 1\n",
    "    while x < n:\n",
    "        y = x\n",
    "        while y > 1:\n",
    "            if  x % y == 0:\n",
    "                prime_check_list.append(x)\n",
    "            y = y - 1\n",
    "        if len(prime_check_list) == 1:\n",
    "                prime_sum_final = prime_sum_final + prime_check_list[0]\n",
    "        prime_check_list = []\n",
    "        x = x + 1\n",
    "    print(prime_sum_final)"
   ]
  },
  {
   "cell_type": "code",
   "execution_count": 212,
   "metadata": {},
   "outputs": [
    {
     "name": "stdout",
     "output_type": "stream",
     "text": [
      "277050\n"
     ]
    }
   ],
   "source": [
    "prime_sums_underN(2000)"
   ]
  },
  {
   "cell_type": "markdown",
   "metadata": {},
   "source": [
    "## Summation of Primes\n",
    "\n",
    "To add primes together, I had to discover what were prime numbers.  After thinking a while, I decided to use the % operator and look for remainders.  The idea was to divide each number up to 2000 by every number below it (excluding 1).  If there was no remainders (% = 0), then I'd add the number to a temporary list.  Once I've completed a loop to run this operation on every number below it, I'd check the length of the list  If the length of the list was 1, meaning that the number had no remainder on only dividing by itself, it was a prime number.  If it had multiple numbers in the list, it would not be a prime number.\n",
    "\n",
    "By initially setting a variable called prime_sum_final to 0, once my if statement checked the list, it would add the 1 and only number from the list to the current value of the sum variable.\n",
    "\n",
    "Similarly to before, I edited the function to be more usable, where a function would ask for a number in the function then find the sum of all primes beneath, not limiting the function to a max value of 2000."
   ]
  },
  {
   "cell_type": "markdown",
   "metadata": {},
   "source": [
    "### Challenge 3: Multiples of 3 and 5\n",
    "If we list all of the natural numbers below 10 that are multiples of 3 or 5, we get 3, 5, 6, and 9. The sum of these multiples is 23. Find the sum of all the multiples of 3 and 5 below 1,000. Afterward, write a brief explanation walking through your code's logic in markdown."
   ]
  },
  {
   "cell_type": "code",
   "execution_count": 213,
   "metadata": {},
   "outputs": [],
   "source": [
    "def sum_threes_fives_under1k():\n",
    "    multiples_sum_final = 0\n",
    "    x = 1\n",
    "    while x < 1000:\n",
    "        if x % 3 == 0:\n",
    "            multiples_sum_final = multiples_sum_final + x\n",
    "        elif x % 5 == 0:\n",
    "            multiples_sum_final = multiples_sum_final + x\n",
    "        x = x + 1\n",
    "    print(multiples_sum_final)"
   ]
  },
  {
   "cell_type": "code",
   "execution_count": 214,
   "metadata": {},
   "outputs": [
    {
     "name": "stdout",
     "output_type": "stream",
     "text": [
      "233168\n"
     ]
    }
   ],
   "source": [
    "sum_threes_fives_under1k()"
   ]
  },
  {
   "cell_type": "code",
   "execution_count": 215,
   "metadata": {},
   "outputs": [],
   "source": [
    "def sum_threes_fives_underN(n):\n",
    "    multiples_sum_final = 0\n",
    "    x = 1\n",
    "    while x < n:\n",
    "        if x % 3 == 0:\n",
    "            multiples_sum_final = multiples_sum_final + x\n",
    "        elif x % 5 == 0:\n",
    "            multiples_sum_final = multiples_sum_final + x\n",
    "        x = x + 1\n",
    "    print(multiples_sum_final)"
   ]
  },
  {
   "cell_type": "code",
   "execution_count": 217,
   "metadata": {
    "scrolled": true
   },
   "outputs": [
    {
     "name": "stdout",
     "output_type": "stream",
     "text": [
      "23331668\n"
     ]
    }
   ],
   "source": [
    "sum_threes_fives_underN(10000)"
   ]
  },
  {
   "cell_type": "markdown",
   "metadata": {},
   "source": [
    "## Multiples of 3 and 5\n",
    "\n",
    "I used a similar mindset of challenge 2 on this, using % to essentially check if a number was divisible by 3 or 5 if the result was 0.  Using another variable set initially to 0, if the % result equaled zero, we would add the number into the current value of variable.  A while loop would allow this to work for every number in the range by starting at 1 and adding 1 to itself at the end of the loop.\n",
    "\n",
    "In an effort to make this more usable, I also added another version of the function where the user could enter any number to get a result."
   ]
  },
  {
   "cell_type": "markdown",
   "metadata": {},
   "source": [
    "### Challenge 4: String Compressor\n",
    "Implement a method to perform basic string compression using the counts of repeated characters. (This is called run-length encoding.) For example, the string \"aabcccccaaa\" would become a2b1c5a3. If the “compressed” string would not become smaller than the original string, your method should return the original string. You can assume the string has only uppercase and lowercase letters (a–z). Specify whether your solution is case sensitive or case insensitive and what you would need to change to make it the other. Afterward, write a brief explanation walking through your code's logic in markdown."
   ]
  },
  {
   "cell_type": "code",
   "execution_count": 349,
   "metadata": {},
   "outputs": [
    {
     "name": "stdout",
     "output_type": "stream",
     "text": [
      "a2b1c5a3\n"
     ]
    }
   ],
   "source": [
    "def string_compress(entry):\n",
    "    entry = entry.lower()\n",
    "    stop = len(entry)\n",
    "    final_string_list = []\n",
    "    y = 0\n",
    "    while y < stop:\n",
    "        start = entry[y]\n",
    "        counter = 0\n",
    "        x = y\n",
    "        while x < stop:\n",
    "            if start == entry[x]:\n",
    "                counter = counter + 1\n",
    "                x = x + 1\n",
    "                if x == stop:\n",
    "                    final_string_list.append(start)\n",
    "                    final_string_list.append(str(counter))\n",
    "            else:\n",
    "                final_string_list.append(start)\n",
    "                final_string_list.append(str(counter))\n",
    "                x = stop\n",
    "        y = y + counter\n",
    "    final_string = ''.join(final_string_list)\n",
    "    if len(final_string) > stop:\n",
    "        print(entry)\n",
    "    else:\n",
    "        print(final_string)\n",
    "    \n",
    "string_compress('aabCCcccaaa')"
   ]
  },
  {
   "cell_type": "markdown",
   "metadata": {},
   "source": [
    "## String Compressor\n",
    "\n",
    "This was a tricky one.  The idea was to figure out the first letter in the string, and see if the next one was also the same letter.  If it was, check the next letter and so forth and so forth.  To count how many occurances this letter repeated, I named a variable counter which would add 1 to itself each time it went through the loop.  If the next letter was not the same (or we got to the end of the string), I would append the letter and a string of the counter variable to a list. \n",
    "\n",
    "This challenge required 2 while loops to operate in my method, one which would check the consecutive letters and one to operate if the next letter was different.  By adding the counter to the increasing variable defining the loop, I would ensure we didn't repeat.  Once completed, I converted the list into a string using join.  Finally, per the requirements, I checked if the length of the original string was shorter than the final string, and print the shorter of the two (or the final string if equal length).\n",
    "\n",
    "This function is case insensitve, as I converted the entry string into all lower case letters at the very beginning.  To make it case sensitive, we could simply remove that line."
   ]
  },
  {
   "cell_type": "markdown",
   "metadata": {},
   "source": [
    "### *BONUS* Challenge: FizzBuzz\n",
    "Write a program that prints all of the numbers from 1 to 100. For multiples of 3, instead of the number, print \"Fizz;\" for multiples of 5, print \"Buzz.\" For numbers that are multiples of both 3 and 5, print \"FizzBuzz.\" Afterward, write a brief explanation walking through your code's logic in markdown."
   ]
  },
  {
   "cell_type": "code",
   "execution_count": 219,
   "metadata": {},
   "outputs": [],
   "source": [
    "def fizzbuzz(n):\n",
    "    fizz_list = list(range(1,n + 1))\n",
    "    fizz_buzz_list = []\n",
    "    for i in fizz_list:\n",
    "        if ((i % 3) == 0) & ((i % 5) == 0):\n",
    "            fizz_buzz_list.append('FizzBuzz')\n",
    "        elif i % 3 == 0:\n",
    "            fizz_buzz_list.append('Fizz')\n",
    "        elif i % 5 == 0:\n",
    "            fizz_buzz_list.append('Buzz')\n",
    "        else:\n",
    "            fizz_buzz_list.append(i)\n",
    "    print(fizz_buzz_list)"
   ]
  },
  {
   "cell_type": "code",
   "execution_count": 351,
   "metadata": {
    "scrolled": true
   },
   "outputs": [
    {
     "name": "stdout",
     "output_type": "stream",
     "text": [
      "[1, 2, 'Fizz', 4, 'Buzz', 'Fizz', 7, 8, 'Fizz', 'Buzz', 11, 'Fizz', 13, 14, 'FizzBuzz', 16, 17, 'Fizz', 19, 'Buzz', 'Fizz', 22, 23, 'Fizz', 'Buzz', 26, 'Fizz', 28, 29, 'FizzBuzz', 31, 32, 'Fizz', 34, 'Buzz', 'Fizz', 37, 38, 'Fizz', 'Buzz', 41, 'Fizz', 43, 44, 'FizzBuzz', 46, 47, 'Fizz', 49, 'Buzz', 'Fizz', 52, 53, 'Fizz', 'Buzz', 56, 'Fizz', 58, 59, 'FizzBuzz', 61, 62, 'Fizz', 64, 'Buzz', 'Fizz', 67, 68, 'Fizz', 'Buzz', 71, 'Fizz', 73, 74, 'FizzBuzz', 76, 77, 'Fizz', 79, 'Buzz', 'Fizz', 82, 83, 'Fizz', 'Buzz', 86, 'Fizz', 88, 89, 'FizzBuzz', 91, 92, 'Fizz', 94, 'Buzz', 'Fizz', 97, 98, 'Fizz', 'Buzz', 101, 'Fizz', 103, 104, 'FizzBuzz', 106, 107, 'Fizz', 109, 'Buzz', 'Fizz', 112, 113, 'Fizz', 'Buzz', 116, 'Fizz', 118, 119, 'FizzBuzz', 121, 122, 'Fizz', 124, 'Buzz', 'Fizz', 127, 128, 'Fizz', 'Buzz', 131, 'Fizz', 133, 134, 'FizzBuzz', 136, 137, 'Fizz', 139, 'Buzz', 'Fizz', 142, 143, 'Fizz', 'Buzz', 146, 'Fizz', 148, 149, 'FizzBuzz', 151, 152, 'Fizz', 154, 'Buzz', 'Fizz', 157, 158, 'Fizz', 'Buzz', 161, 'Fizz', 163, 164, 'FizzBuzz', 166, 167, 'Fizz', 169, 'Buzz', 'Fizz', 172, 173, 'Fizz', 'Buzz', 176, 'Fizz', 178, 179, 'FizzBuzz', 181, 182, 'Fizz', 184, 'Buzz', 'Fizz', 187, 188, 'Fizz', 'Buzz', 191, 'Fizz', 193, 194, 'FizzBuzz', 196, 197, 'Fizz', 199, 'Buzz', 'Fizz', 202, 203, 'Fizz', 'Buzz', 206, 'Fizz', 208, 209, 'FizzBuzz', 211, 212, 'Fizz', 214, 'Buzz', 'Fizz', 217, 218, 'Fizz', 'Buzz', 221, 'Fizz', 223, 224, 'FizzBuzz', 226, 227, 'Fizz', 229, 'Buzz', 'Fizz', 232, 233, 'Fizz', 'Buzz', 236, 'Fizz', 238, 239, 'FizzBuzz', 241, 242, 'Fizz', 244, 'Buzz', 'Fizz', 247, 248, 'Fizz', 'Buzz', 251, 'Fizz', 253, 254, 'FizzBuzz', 256, 257, 'Fizz', 259, 'Buzz', 'Fizz', 262, 263, 'Fizz', 'Buzz', 266, 'Fizz', 268, 269, 'FizzBuzz', 271, 272, 'Fizz', 274, 'Buzz', 'Fizz', 277, 278, 'Fizz', 'Buzz', 281, 'Fizz', 283, 284, 'FizzBuzz', 286, 287, 'Fizz', 289, 'Buzz', 'Fizz', 292, 293, 'Fizz', 'Buzz', 296, 'Fizz', 298, 299, 'FizzBuzz', 301, 302, 'Fizz', 304, 'Buzz', 'Fizz', 307, 308, 'Fizz', 'Buzz', 311, 'Fizz', 313, 314, 'FizzBuzz', 316, 317, 'Fizz', 319, 'Buzz', 'Fizz', 322, 323, 'Fizz', 'Buzz', 326, 'Fizz', 328, 329, 'FizzBuzz', 331, 332, 'Fizz', 334, 'Buzz', 'Fizz', 337, 338, 'Fizz', 'Buzz', 341, 'Fizz', 343, 344, 'FizzBuzz', 346, 347, 'Fizz', 349, 'Buzz', 'Fizz', 352, 353, 'Fizz', 'Buzz', 356, 'Fizz', 358, 359, 'FizzBuzz', 361, 362, 'Fizz', 364, 'Buzz', 'Fizz', 367, 368, 'Fizz', 'Buzz', 371, 'Fizz', 373, 374, 'FizzBuzz', 376, 377, 'Fizz', 379, 'Buzz', 'Fizz', 382, 383, 'Fizz', 'Buzz', 386, 'Fizz', 388, 389, 'FizzBuzz', 391, 392, 'Fizz', 394, 'Buzz', 'Fizz', 397, 398, 'Fizz', 'Buzz', 401, 'Fizz', 403, 404, 'FizzBuzz', 406, 407, 'Fizz', 409, 'Buzz', 'Fizz', 412, 413, 'Fizz', 'Buzz', 416, 'Fizz', 418, 419, 'FizzBuzz', 421, 422, 'Fizz', 424, 'Buzz', 'Fizz', 427, 428, 'Fizz', 'Buzz', 431, 'Fizz', 433, 434, 'FizzBuzz', 436, 437, 'Fizz', 439, 'Buzz', 'Fizz', 442, 443, 'Fizz', 'Buzz', 446, 'Fizz', 448, 449, 'FizzBuzz', 451, 452, 'Fizz', 454, 'Buzz', 'Fizz', 457, 458, 'Fizz', 'Buzz', 461, 'Fizz', 463, 464, 'FizzBuzz', 466, 467, 'Fizz', 469, 'Buzz', 'Fizz', 472, 473, 'Fizz', 'Buzz', 476, 'Fizz', 478, 479, 'FizzBuzz', 481, 482, 'Fizz', 484, 'Buzz', 'Fizz', 487, 488, 'Fizz', 'Buzz', 491, 'Fizz', 493, 494, 'FizzBuzz', 496, 497, 'Fizz', 499, 'Buzz', 'Fizz', 502, 503, 'Fizz', 'Buzz', 506, 'Fizz', 508, 509, 'FizzBuzz', 511, 512, 'Fizz', 514, 'Buzz', 'Fizz', 517, 518, 'Fizz', 'Buzz', 521, 'Fizz', 523, 524, 'FizzBuzz', 526, 527, 'Fizz', 529, 'Buzz', 'Fizz', 532, 533, 'Fizz', 'Buzz', 536, 'Fizz', 538, 539, 'FizzBuzz', 541, 542, 'Fizz', 544, 'Buzz', 'Fizz', 547, 548, 'Fizz', 'Buzz', 551, 'Fizz', 553, 554, 'FizzBuzz', 556, 557, 'Fizz', 559, 'Buzz', 'Fizz', 562, 563, 'Fizz', 'Buzz', 566, 'Fizz', 568, 569, 'FizzBuzz', 571, 572, 'Fizz', 574, 'Buzz', 'Fizz', 577, 578, 'Fizz', 'Buzz', 581, 'Fizz', 583, 584, 'FizzBuzz', 586, 587, 'Fizz', 589, 'Buzz', 'Fizz', 592, 593, 'Fizz', 'Buzz', 596, 'Fizz', 598, 599, 'FizzBuzz', 601, 602, 'Fizz', 604, 'Buzz', 'Fizz', 607, 608, 'Fizz', 'Buzz', 611, 'Fizz', 613, 614, 'FizzBuzz', 616, 617, 'Fizz', 619, 'Buzz', 'Fizz', 622, 623, 'Fizz', 'Buzz', 626, 'Fizz', 628, 629, 'FizzBuzz', 631, 632, 'Fizz', 634, 'Buzz', 'Fizz', 637, 638, 'Fizz', 'Buzz', 641, 'Fizz', 643, 644, 'FizzBuzz', 646, 647, 'Fizz', 649, 'Buzz', 'Fizz', 652, 653, 'Fizz', 'Buzz', 656, 'Fizz', 658, 659, 'FizzBuzz', 661, 662, 'Fizz', 664, 'Buzz', 'Fizz', 667, 668, 'Fizz', 'Buzz', 671, 'Fizz', 673, 674, 'FizzBuzz', 676, 677, 'Fizz', 679, 'Buzz', 'Fizz', 682, 683, 'Fizz', 'Buzz', 686, 'Fizz', 688, 689, 'FizzBuzz', 691, 692, 'Fizz', 694, 'Buzz', 'Fizz', 697, 698, 'Fizz', 'Buzz', 701, 'Fizz', 703, 704, 'FizzBuzz', 706, 707, 'Fizz', 709, 'Buzz', 'Fizz', 712, 713, 'Fizz', 'Buzz', 716, 'Fizz', 718, 719, 'FizzBuzz', 721, 722, 'Fizz', 724, 'Buzz', 'Fizz', 727, 728, 'Fizz', 'Buzz', 731, 'Fizz', 733, 734, 'FizzBuzz', 736, 737, 'Fizz', 739, 'Buzz', 'Fizz', 742, 743, 'Fizz', 'Buzz', 746, 'Fizz', 748, 749, 'FizzBuzz', 751, 752, 'Fizz', 754, 'Buzz', 'Fizz', 757, 758, 'Fizz', 'Buzz', 761, 'Fizz', 763, 764, 'FizzBuzz', 766, 767, 'Fizz', 769, 'Buzz', 'Fizz', 772, 773, 'Fizz', 'Buzz', 776, 'Fizz', 778, 779, 'FizzBuzz', 781, 782, 'Fizz', 784, 'Buzz', 'Fizz', 787, 788, 'Fizz', 'Buzz', 791, 'Fizz', 793, 794, 'FizzBuzz', 796, 797, 'Fizz', 799, 'Buzz', 'Fizz', 802, 803, 'Fizz', 'Buzz', 806, 'Fizz', 808, 809, 'FizzBuzz', 811, 812, 'Fizz', 814, 'Buzz', 'Fizz', 817, 818, 'Fizz', 'Buzz', 821, 'Fizz', 823, 824, 'FizzBuzz', 826, 827, 'Fizz', 829, 'Buzz', 'Fizz', 832, 833, 'Fizz', 'Buzz', 836, 'Fizz', 838, 839, 'FizzBuzz', 841, 842, 'Fizz', 844, 'Buzz', 'Fizz', 847, 848, 'Fizz', 'Buzz', 851, 'Fizz', 853, 854, 'FizzBuzz', 856, 857, 'Fizz', 859, 'Buzz', 'Fizz', 862, 863, 'Fizz', 'Buzz', 866, 'Fizz', 868, 869, 'FizzBuzz', 871, 872, 'Fizz', 874, 'Buzz', 'Fizz', 877, 878, 'Fizz', 'Buzz', 881, 'Fizz', 883, 884, 'FizzBuzz', 886, 887, 'Fizz', 889, 'Buzz', 'Fizz', 892, 893, 'Fizz', 'Buzz', 896, 'Fizz', 898, 899, 'FizzBuzz', 901, 902, 'Fizz', 904, 'Buzz', 'Fizz', 907, 908, 'Fizz', 'Buzz', 911, 'Fizz', 913, 914, 'FizzBuzz', 916, 917, 'Fizz', 919, 'Buzz', 'Fizz', 922, 923, 'Fizz', 'Buzz', 926, 'Fizz', 928, 929, 'FizzBuzz', 931, 932, 'Fizz', 934, 'Buzz', 'Fizz', 937, 938, 'Fizz', 'Buzz', 941, 'Fizz', 943, 944, 'FizzBuzz', 946, 947, 'Fizz', 949, 'Buzz', 'Fizz', 952, 953, 'Fizz', 'Buzz', 956, 'Fizz', 958, 959, 'FizzBuzz', 961, 962, 'Fizz', 964, 'Buzz', 'Fizz', 967, 968, 'Fizz', 'Buzz', 971, 'Fizz', 973, 974, 'FizzBuzz', 976, 977, 'Fizz', 979, 'Buzz', 'Fizz', 982, 983, 'Fizz', 'Buzz', 986, 'Fizz', 988, 989, 'FizzBuzz', 991, 992, 'Fizz', 994, 'Buzz', 'Fizz', 997, 998, 'Fizz', 'Buzz']\n"
     ]
    }
   ],
   "source": [
    "fizzbuzz(1000)"
   ]
  },
  {
   "cell_type": "markdown",
   "metadata": {},
   "source": [
    "## Fizzbuzz\n",
    "\n",
    "Very similar to the 3rd challenge, I used % to check for remainders where a 0 would represent a divisible number.  Because I couldn't help myself, I also wrote the function to work on any input number the user requested into the function.  To do this, I made the input variable the largest number in a range from 1 to that variable.  As a list of numbers, I used a for loop to check each number if it was divisible by 3 and 5, 3, or 5.  If so, add the appropriate word to the final list.  If not, add the number.  Print the final result."
   ]
  }
 ],
 "metadata": {
  "anaconda-cloud": {},
  "kernelspec": {
   "display_name": "Python 3",
   "language": "python",
   "name": "python3"
  },
  "language_info": {
   "codemirror_mode": {
    "name": "ipython",
    "version": 3
   },
   "file_extension": ".py",
   "mimetype": "text/x-python",
   "name": "python",
   "nbconvert_exporter": "python",
   "pygments_lexer": "ipython3",
   "version": "3.6.5"
  }
 },
 "nbformat": 4,
 "nbformat_minor": 2
}
